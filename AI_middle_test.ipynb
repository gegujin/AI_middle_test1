{
 "cells": [
  {
   "cell_type": "code",
   "execution_count": 3,
   "id": "e337f950-2292-477e-bab7-b65ce634ff2c",
   "metadata": {
    "tags": []
   },
   "outputs": [],
   "source": [
    "import torch\n",
    "import torch.nn as nn\n",
    "import torch.optim as optim\n",
    "from torch.utils.data import DataLoader\n",
    "import torchvision\n",
    "import torchvision.transforms as transforms\n",
    "import matplotlib.pyplot as plt"
   ]
  },
  {
   "cell_type": "code",
   "execution_count": 4,
   "id": "574bb908-ead8-4946-a2d0-daefd8f186e5",
   "metadata": {
    "tags": []
   },
   "outputs": [],
   "source": [
    "transform = transforms.Compose([\n",
    "    transforms.ToTensor(),\n",
    "    transforms.Normalize((0.5,), (0.5,))\n",
    "])\n",
    "\n",
    "train_set = torchvision.datasets.FashionMNIST(root='./data', train=True, download=True, transform=transform)\n",
    "test_set = torchvision.datasets.FashionMNIST(root='./data', train=False, download=True, transform=transform)\n",
    "\n",
    "train_loader = DataLoader(train_set, batch_size=64, shuffle=True)\n",
    "test_loader = DataLoader(test_set, batch_size=64, shuffle=False)\n"
   ]
  },
  {
   "cell_type": "code",
   "execution_count": 5,
   "id": "a7c0c63f-4148-4fb5-af53-a22d38026c85",
   "metadata": {
    "tags": []
   },
   "outputs": [
    {
     "data": {
      "image/png": "[encoded data removed]",
      "text/plain": [
       "<Figure size 800x800 with 9 Axes>"
      ]
     },
     "metadata": {},
     "output_type": "display_data"
    }
   ],
   "source": [
    "labels_map = {\n",
    "    0: \"T-shirt/Top\", 1: \"Trouser\", 2: \"Pullover\", 3: \"Dress\", 4: \"Coat\",\n",
    "    5: \"Sandal\", 6: \"Shirt\", 7: \"Sneaker\", 8: \"Bag\", 9: \"Ankle Boot\"\n",
    "}\n",
    "figure = plt.figure(figsize=(8, 8))\n",
    "cols, rows = 3, 3\n",
    "for i in range(1, cols * rows + 1):\n",
    "    sample_idx = torch.randint(len(train_set), size=(1,)).item()\n",
    "    img, label = train_set[sample_idx]\n",
    "    figure.add_subplot(rows, cols, i)\n",
    "    plt.title(labels_map[label])\n",
    "    plt.axis(\"off\")\n",
    "    plt.imshow(img.squeeze(), cmap=\"gray\")\n",
    "plt.show()\n"
   ]
  },
  {
   "cell_type": "code",
   "execution_count": 7,
   "id": "d3c0dc73-2e51-4cc9-868a-98f062b31f4d",
   "metadata": {
    "tags": []
   },
   "outputs": [],
   "source": [
    "class FashionCNN(nn.Module):\n",
    "    def __init__(self):\n",
    "        super(FashionCNN, self).__init__()\n",
    "        self.layer1 = nn.Sequential(\n",
    "            nn.Conv2d(1, 32, kernel_size=5, padding=2),\n",
    "            nn.BatchNorm2d(32),\n",
    "            nn.ReLU(),\n",
    "            nn.MaxPool2d(2)\n",
    "        )\n",
    "        self.layer2 = nn.Sequential(\n",
    "            nn.Conv2d(32, 64, kernel_size=5, padding=2),\n",
    "            nn.BatchNorm2d(64),\n",
    "            nn.ReLU(),\n",
    "            nn.MaxPool2d(2)\n",
    "        )\n",
    "        self.fc1 = nn.Linear(7*7*64, 1000)\n",
    "        self.fc2 = nn.Linear(1000, 10)\n",
    "        \n",
    "    def forward(self, x):\n",
    "        out = self.layer1(x)\n",
    "        out = self.layer2(out)\n",
    "        out = out.view(out.size(0), -1)\n",
    "        out = self.fc1(out)\n",
    "        out = self.fc2(out)\n",
    "        return out\n"
   ]
  },
  {
   "cell_type": "code",
   "execution_count": 8,
   "id": "af17258e-7c32-4aee-a2fa-be708bf55e5a",
   "metadata": {
    "tags": []
   },
   "outputs": [
    {
     "name": "stdout",
     "output_type": "stream",
     "text": [
      "Epoch [1/5], Step [100/938], Loss: 0.4342\n",
      "Epoch [1/5], Step [200/938], Loss: 0.6351\n",
      "Epoch [1/5], Step [300/938], Loss: 0.4817\n",
      "Epoch [1/5], Step [400/938], Loss: 0.4471\n",
      "Epoch [1/5], Step [500/938], Loss: 0.3461\n",
      "Epoch [1/5], Step [600/938], Loss: 0.3766\n",
      "Epoch [1/5], Step [700/938], Loss: 0.3187\n",
      "Epoch [1/5], Step [800/938], Loss: 0.3060\n",
      "Epoch [1/5], Step [900/938], Loss: 0.3049\n",
      "Epoch [2/5], Step [100/938], Loss: 0.1781\n",
      "Epoch [2/5], Step [200/938], Loss: 0.3998\n",
      "Epoch [2/5], Step [300/938], Loss: 0.3329\n",
      "Epoch [2/5], Step [400/938], Loss: 0.5676\n",
      "Epoch [2/5], Step [500/938], Loss: 0.2476\n",
      "Epoch [2/5], Step [600/938], Loss: 0.2092\n",
      "Epoch [2/5], Step [700/938], Loss: 0.3376\n",
      "Epoch [2/5], Step [800/938], Loss: 0.3020\n",
      "Epoch [2/5], Step [900/938], Loss: 0.3622\n",
      "Epoch [3/5], Step [100/938], Loss: 0.2247\n",
      "Epoch [3/5], Step [200/938], Loss: 0.3085\n",
      "Epoch [3/5], Step [300/938], Loss: 0.3880\n",
      "Epoch [3/5], Step [400/938], Loss: 0.3572\n",
      "Epoch [3/5], Step [500/938], Loss: 0.2583\n",
      "Epoch [3/5], Step [600/938], Loss: 0.4181\n",
      "Epoch [3/5], Step [700/938], Loss: 0.1760\n",
      "Epoch [3/5], Step [800/938], Loss: 0.3583\n",
      "Epoch [3/5], Step [900/938], Loss: 0.1939\n",
      "Epoch [4/5], Step [100/938], Loss: 0.1718\n",
      "Epoch [4/5], Step [200/938], Loss: 0.3254\n",
      "Epoch [4/5], Step [300/938], Loss: 0.1992\n",
      "Epoch [4/5], Step [400/938], Loss: 0.1418\n",
      "Epoch [4/5], Step [500/938], Loss: 0.2403\n",
      "Epoch [4/5], Step [600/938], Loss: 0.3638\n",
      "Epoch [4/5], Step [700/938], Loss: 0.2468\n",
      "Epoch [4/5], Step [800/938], Loss: 0.2343\n",
      "Epoch [4/5], Step [900/938], Loss: 0.2540\n",
      "Epoch [5/5], Step [100/938], Loss: 0.2022\n",
      "Epoch [5/5], Step [200/938], Loss: 0.2133\n",
      "Epoch [5/5], Step [300/938], Loss: 0.1879\n",
      "Epoch [5/5], Step [400/938], Loss: 0.2287\n",
      "Epoch [5/5], Step [500/938], Loss: 0.3170\n",
      "Epoch [5/5], Step [600/938], Loss: 0.2705\n",
      "Epoch [5/5], Step [700/938], Loss: 0.1795\n",
      "Epoch [5/5], Step [800/938], Loss: 0.1691\n",
      "Epoch [5/5], Step [900/938], Loss: 0.1851\n"
     ]
    }
   ],
   "source": [
    "model = FashionCNN()\n",
    "criterion = nn.CrossEntropyLoss()\n",
    "optimizer = optim.Adam(model.parameters(), lr=0.001)\n",
    "\n",
    "total_step = len(train_loader)\n",
    "num_epochs = 5\n",
    "\n",
    "for epoch in range(num_epochs):\n",
    "    for i, (images, labels) in enumerate(train_loader):\n",
    "        outputs = model(images)\n",
    "        loss = criterion(outputs, labels)\n",
    "        \n",
    "        optimizer.zero_grad()\n",
    "        loss.backward()\n",
    "        optimizer.step()\n",
    "        \n",
    "        if (i+1) % 100 == 0:\n",
    "            print ('Epoch [{}/{}], Step [{}/{}], Loss: {:.4f}'\n",
    "                   .format(epoch+1, num_epochs, i+1, total_step, loss.item()))\n"
   ]
  },
  {
   "cell_type": "code",
   "execution_count": 9,
   "id": "5bc238ca-7e39-4a74-a629-03081fe0c632",
   "metadata": {
    "tags": []
   },
   "outputs": [
    {
     "name": "stdout",
     "output_type": "stream",
     "text": [
      "Test Accuracy of the model on the 10000 test images: 91.2 %\n"
     ]
    }
   ],
   "source": [
    "model.eval()\n",
    "with torch.no_grad():\n",
    "    correct = 0\n",
    "    total = 0\n",
    "    for images, labels in test_loader:\n",
    "        outputs = model(images)\n",
    "        _, predicted = torch.max(outputs.data, 1)\n",
    "        total += labels.size(0)\n",
    "        correct += (predicted == labels).sum().item()\n",
    "    \n",
    "    print('Test Accuracy of the model on the 10000 test images: {} %'.format(100 * correct / total))\n"
   ]
  },
  {
   "cell_type": "code",
   "execution_count": null,
   "id": "2e5f1de2-3bb6-4e40-820e-8fa6132e2936",
   "metadata": {},
   "outputs": [],
   "source": []
  }
 ],
 "metadata": {
  "kernelspec": {
   "display_name": "Python 3 (ipykernel)",
   "language": "python",
   "name": "python3"
  },
  "language_info": {
   "codemirror_mode": {
    "name": "ipython",
    "version": 3
   },
   "file_extension": ".py",
   "mimetype": "text/x-python",
   "name": "python",
   "nbconvert_exporter": "python",
   "pygments_lexer": "ipython3",
   "version": "3.11.5"
  }
 },
 "nbformat": 4,
 "nbformat_minor": 5
}
